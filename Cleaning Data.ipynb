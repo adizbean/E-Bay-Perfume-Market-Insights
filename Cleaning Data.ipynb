{
 "cells": [
  {
   "cell_type": "markdown",
   "metadata": {},
   "source": [
    "link tableau \n",
    "https://public.tableau.com/app/profile/gadist.diasmi/viz/P1M2_gadist_diasmi/Rata-rataHargaPerfume?publish=yes\n",
    "\n",
    "https://public.tableau.com/app/profile/gadist.diasmi/viz/P1M2_gadist_diasmi_1/MerkYangPalingDominanDariKeduaKategori?publish=yes"
   ]
  },
  {
   "cell_type": "markdown",
   "metadata": {},
   "source": [
    "# i. Pengenalan"
   ]
  },
  {
   "cell_type": "markdown",
   "metadata": {},
   "source": [
    "Milestone 2\n",
    "\n",
    "Nama  : Gadist Diasmi\n",
    "Batch : CODA-RMT-005\n",
    "\n",
    "Program ini dibuat untuk menganalisa data menggunakan statistik dan dashboard visualisasi untuk membantu penyelesaian masalah."
   ]
  },
  {
   "cell_type": "markdown",
   "metadata": {},
   "source": [
    "# ii. Identifikasi Masalah"
   ]
  },
  {
   "cell_type": "markdown",
   "metadata": {},
   "source": [
    "## 1. Konteks Bisnis\n",
    "\n",
    "Parfum lokal di Indonesia dengan aroma dan citra yang khas semakin diminati di pasar domestik. Namun, persaingan dengan parfum niche dari luar negeri tetap menjadi tantangan bagi industri dalam negeri. Hal ini mendorong brand lokal untuk menciptakan aroma yang lebih menarik dan kompetitif, sekaligus mempeluas jangkauan ke pasar internasional. Seperti, brand dari Alchemist telah menjadi salah satu produk incaran turis Malaysia saat berkunjung ke Indonesia, ini membuktikan potensi parfum lokal untuk bersaing di kancah global."
   ]
  },
  {
   "cell_type": "markdown",
   "metadata": {},
   "source": [
    "## 2. Key SMART & Problem Statement\n",
    "\n",
    "Specific: Meningkatkan daya saing parfum lokal di pasar global dengan melihat preferensi tren penjualan dan segmentasi pelanggan, menciptakan harga yang bersaing dari parameter harga yang nanti akan dianalisis\n",
    "\n",
    "Measurable: Meningkatkan penjualan parfum lokal sebesar 20% dalam 12 bulan, memperluas distirbusi ke 3 negara dalam 2 tahun, dan meluncurkan minimal 2 varian parfum baru berbasis tren pasar dalam 1 tahun\n",
    "\n",
    "Achievable: Melakukan analisa data dengan melihat brand apa yang paling diminati baik dari segmen parfum untuk wanita dan pria, melakukan perbandingan harga dan melihat tren di kota mana yang paling banyak memiliki minat pada perfume\n",
    "\n",
    "Relevan: Memanfaatkan tren wisatawan asing yang tertarik dengan parfum lokal sebagai strategi ekspansi pasar dan mendukung pertumbuhan industri kreatif Indonesia dan daya saing global.\n",
    "\n",
    "Time Bound: Analisa ini akan digunakan pada quarter ke-2 \n",
    "\n",
    "Problem Statement: Meningkatkan daya saing parfum lokal di pasar global dengan menganalisis tren penjualan, segmentasi pelanggan, dan parameter harga untuk menetapkan strategi kompetitif, menargetkan peningkatan penjualan 20% dalam 12 bulan, ekspansi ke tiga negara dalam dua tahun, serta peluncuran dua varian baru dalam satu tahun, sejalan dengan tren wisatawan asing sebagai peluang ekspansi, dengan implementasi analisis pada kuartal kedua."
   ]
  },
  {
   "cell_type": "markdown",
   "metadata": {},
   "source": [
    "## 3. 5W+H1\n",
    "\n",
    "1. Merk apa yang paling dominan baik kategori parfum untuk wanita maupun pria?\n",
    "2. Tipe parfum apa yang paling disukai oleh wanita dan pria?\n",
    "3. Berapa rata-rata harga parfum pada kedua kategori?\n",
    "4. Kota mana yang paling banyak melakukan pembelian parfum?\n",
    "5. Parfum yang memiliki stok terbanyak dan berasal dari kota mana?\n",
    "6. Trend menggunakan last update, Bagaimana tren penjualan parfum dari waktu ke waktu?"
   ]
  },
  {
   "cell_type": "markdown",
   "metadata": {},
   "source": [
    "# iii. Data Loading"
   ]
  },
  {
   "cell_type": "code",
   "execution_count": 1,
   "metadata": {},
   "outputs": [],
   "source": [
    "import pandas as pd\n",
    "from scipy import stats\n",
    "import matplotlib.pyplot as plt\n",
    "import numpy as np\n",
    "import seaborn as sns"
   ]
  },
  {
   "cell_type": "code",
   "execution_count": 29,
   "metadata": {},
   "outputs": [],
   "source": [
    "dfw = pd.read_csv(\"ebay_womens_perfume.csv\", index_col=0)\n",
    "dfm = pd.read_csv(\"ebay_mens_perfume.csv\", index_col=0)"
   ]
  },
  {
   "cell_type": "code",
   "execution_count": 30,
   "metadata": {},
   "outputs": [],
   "source": [
    "# membuat kolom baru yaitu gender\n",
    "dfw[\"gender\"] = \"Women\"\n",
    "dfm[\"gender\"] = \"Men\""
   ]
  },
  {
   "cell_type": "code",
   "execution_count": null,
   "metadata": {},
   "outputs": [],
   "source": [
    "# menggabungkan data\n",
    "df = pd.concat([dfw, dfm], ignore_index=True)\n",
    "df.to_csv(\"ebay_perfume_save.csv\", index=False)"
   ]
  },
  {
   "cell_type": "markdown",
   "metadata": {},
   "source": [
    "# iii. Data Cleaning"
   ]
  },
  {
   "cell_type": "code",
   "execution_count": 222,
   "metadata": {},
   "outputs": [
    {
     "name": "stdout",
     "output_type": "stream",
     "text": [
      "<class 'pandas.core.frame.DataFrame'>\n",
      "RangeIndex: 2000 entries, 0 to 1999\n",
      "Data columns (total 10 columns):\n",
      " #   Column             Non-Null Count  Dtype  \n",
      "---  ------             --------------  -----  \n",
      " 0   title              2000 non-null   object \n",
      " 1   type               1995 non-null   object \n",
      " 2   price              2000 non-null   float64\n",
      " 3   priceWithCurrency  2000 non-null   object \n",
      " 4   available          1758 non-null   float64\n",
      " 5   availableText      1989 non-null   object \n",
      " 6   sold               1978 non-null   float64\n",
      " 7   lastUpdated        1874 non-null   object \n",
      " 8   itemLocation       2000 non-null   object \n",
      " 9   gender             2000 non-null   object \n",
      "dtypes: float64(3), object(7)\n",
      "memory usage: 156.4+ KB\n"
     ]
    }
   ],
   "source": [
    "df.info()"
   ]
  },
  {
   "cell_type": "code",
   "execution_count": 223,
   "metadata": {},
   "outputs": [],
   "source": [
    "# menghapus kolom yang tidak akan terpakai\n",
    "df.drop(columns=['priceWithCurrency', 'availableText'], inplace=True)"
   ]
  },
  {
   "cell_type": "code",
   "execution_count": 224,
   "metadata": {},
   "outputs": [],
   "source": [
    "# meubah beberapa nama kolom\n",
    "df.rename(columns={'lastUpdated': 'last update', 'itemLocation': 'item location'}, inplace=True)"
   ]
  },
  {
   "cell_type": "code",
   "execution_count": 227,
   "metadata": {},
   "outputs": [
    {
     "name": "stdout",
     "output_type": "stream",
     "text": [
      "['2024-05-23 10:43' '2024-05-24 00:15' '2024-05-14 20:54' ...\n",
      " '2024-05-22 12:42' '2024-05-23 15:27' '2024-05-20 13:20']\n"
     ]
    }
   ],
   "source": [
    "# meubah data last update\n",
    "df['last update'] = df['last update'].dt.strftime('%Y-%m-%d %H:%M')\n",
    "print(df['last update'].unique())\n"
   ]
  },
  {
   "cell_type": "code",
   "execution_count": 226,
   "metadata": {},
   "outputs": [
    {
     "name": "stderr",
     "output_type": "stream",
     "text": [
      "C:\\Users\\ASUS\\AppData\\Local\\Temp\\ipykernel_14204\\858871084.py:2: FutureWarning: Parsed string \"May 23, 2024 10:43:50 PDT\" included an un-recognized timezone \"PDT\". Dropping unrecognized timezones is deprecated; in a future version this will raise. Instead pass the string without the timezone, then use .tz_localize to convert to a recognized timezone.\n",
      "  df['last update'] = pd.to_datetime(df['last update'], errors='coerce')\n"
     ]
    }
   ],
   "source": [
    "# meubah last update menjadi tipe data datetime\n",
    "df['last update'] = pd.to_datetime(df['last update'], errors='coerce')\n"
   ]
  },
  {
   "cell_type": "code",
   "execution_count": 228,
   "metadata": {},
   "outputs": [
    {
     "name": "stdout",
     "output_type": "stream",
     "text": [
      "<class 'pandas.core.frame.DataFrame'>\n",
      "RangeIndex: 2000 entries, 0 to 1999\n",
      "Data columns (total 8 columns):\n",
      " #   Column         Non-Null Count  Dtype  \n",
      "---  ------         --------------  -----  \n",
      " 0   title          2000 non-null   object \n",
      " 1   type           1995 non-null   object \n",
      " 2   price          2000 non-null   float64\n",
      " 3   available      1758 non-null   float64\n",
      " 4   sold           1978 non-null   float64\n",
      " 5   last update    1723 non-null   object \n",
      " 6   item location  2000 non-null   object \n",
      " 7   gender         2000 non-null   object \n",
      "dtypes: float64(3), object(5)\n",
      "memory usage: 125.1+ KB\n"
     ]
    }
   ],
   "source": [
    "df.info()"
   ]
  },
  {
   "cell_type": "markdown",
   "metadata": {},
   "source": [
    "1. kolom yang memiliki data missing value beripe object: type\n",
    "2. sedangkan kolom yang memiliki data missing value bertipe float: available dan sold\n",
    "3. dan kolom datetime yaitu last update"
   ]
  },
  {
   "cell_type": "code",
   "execution_count": 229,
   "metadata": {},
   "outputs": [],
   "source": [
    "# imputasi dengan Default\n",
    "df.fillna({'type':'Unknown'}, inplace=True)"
   ]
  },
  {
   "cell_type": "code",
   "execution_count": 230,
   "metadata": {},
   "outputs": [],
   "source": [
    "# imputasi nilai float yang terdapat missi value dengan hasil 0.0\n",
    "nilai_float = ['available', 'sold']\n",
    "df[nilai_float] = df[nilai_float].fillna(0.0)"
   ]
  },
  {
   "cell_type": "code",
   "execution_count": 231,
   "metadata": {},
   "outputs": [],
   "source": [
    "# lalu meubah tipe data available dan sold menjadi integer \n",
    "df['available'] = df['available'].astype(int)\n",
    "df['sold'] = df['sold'].astype(int)"
   ]
  },
  {
   "cell_type": "code",
   "execution_count": 232,
   "metadata": {},
   "outputs": [
    {
     "name": "stderr",
     "output_type": "stream",
     "text": [
      "C:\\Users\\ASUS\\AppData\\Local\\Temp\\ipykernel_14204\\2923673484.py:2: FutureWarning: A value is trying to be set on a copy of a DataFrame or Series through chained assignment using an inplace method.\n",
      "The behavior will change in pandas 3.0. This inplace method will never work because the intermediate object on which we are setting values always behaves as a copy.\n",
      "\n",
      "For example, when doing 'df[col].method(value, inplace=True)', try using 'df.method({col: value}, inplace=True)' or df[col] = df[col].method(value) instead, to perform the operation inplace on the original object.\n",
      "\n",
      "\n",
      "  df['last update'].fillna(df['last update'].mode()[0], inplace=True)\n"
     ]
    }
   ],
   "source": [
    "# imputasi last update menggunakan modus tahun\n",
    "df['last update'].fillna(df['last update'].mode()[0], inplace=True)"
   ]
  },
  {
   "cell_type": "code",
   "execution_count": 233,
   "metadata": {},
   "outputs": [
    {
     "data": {
      "text/html": [
       "<div>\n",
       "<style scoped>\n",
       "    .dataframe tbody tr th:only-of-type {\n",
       "        vertical-align: middle;\n",
       "    }\n",
       "\n",
       "    .dataframe tbody tr th {\n",
       "        vertical-align: top;\n",
       "    }\n",
       "\n",
       "    .dataframe thead th {\n",
       "        text-align: right;\n",
       "    }\n",
       "</style>\n",
       "<table border=\"1\" class=\"dataframe\">\n",
       "  <thead>\n",
       "    <tr style=\"text-align: right;\">\n",
       "      <th></th>\n",
       "      <th>count_missing</th>\n",
       "      <th>percent_missing</th>\n",
       "    </tr>\n",
       "  </thead>\n",
       "  <tbody>\n",
       "    <tr>\n",
       "      <th>title</th>\n",
       "      <td>0</td>\n",
       "      <td>0.0</td>\n",
       "    </tr>\n",
       "    <tr>\n",
       "      <th>type</th>\n",
       "      <td>0</td>\n",
       "      <td>0.0</td>\n",
       "    </tr>\n",
       "    <tr>\n",
       "      <th>price</th>\n",
       "      <td>0</td>\n",
       "      <td>0.0</td>\n",
       "    </tr>\n",
       "    <tr>\n",
       "      <th>available</th>\n",
       "      <td>0</td>\n",
       "      <td>0.0</td>\n",
       "    </tr>\n",
       "    <tr>\n",
       "      <th>sold</th>\n",
       "      <td>0</td>\n",
       "      <td>0.0</td>\n",
       "    </tr>\n",
       "    <tr>\n",
       "      <th>last update</th>\n",
       "      <td>0</td>\n",
       "      <td>0.0</td>\n",
       "    </tr>\n",
       "    <tr>\n",
       "      <th>item location</th>\n",
       "      <td>0</td>\n",
       "      <td>0.0</td>\n",
       "    </tr>\n",
       "    <tr>\n",
       "      <th>gender</th>\n",
       "      <td>0</td>\n",
       "      <td>0.0</td>\n",
       "    </tr>\n",
       "  </tbody>\n",
       "</table>\n",
       "</div>"
      ],
      "text/plain": [
       "               count_missing  percent_missing\n",
       "title                      0              0.0\n",
       "type                       0              0.0\n",
       "price                      0              0.0\n",
       "available                  0              0.0\n",
       "sold                       0              0.0\n",
       "last update                0              0.0\n",
       "item location              0              0.0\n",
       "gender                     0              0.0"
      ]
     },
     "execution_count": 233,
     "metadata": {},
     "output_type": "execute_result"
    }
   ],
   "source": [
    "# menghitung persentase missing value dari masing2 column\n",
    "missing_count = df.isnull().sum()\n",
    "percent_missing = missing_count/len(df)\n",
    "missing_value_df = pd.DataFrame({'count_missing': missing_count, 'percent_missing': percent_missing})\n",
    "missing_value_df"
   ]
  },
  {
   "cell_type": "code",
   "execution_count": 235,
   "metadata": {},
   "outputs": [],
   "source": [
    "# split item location menjadi 3 kolom yg terdiri dari city, region and country\n",
    "df[['city', 'region', 'country']] = df['item location'].str.split(',', n=2, expand=True)"
   ]
  },
  {
   "cell_type": "code",
   "execution_count": 236,
   "metadata": {},
   "outputs": [],
   "source": [
    "# setelah diperhatikan data yang sesaui hanya kolom region, maka ghapus kolom yang tidak akan terpakai\n",
    "df.drop(columns=['item location', 'city', 'country'], inplace=True)"
   ]
  },
  {
   "cell_type": "code",
   "execution_count": 237,
   "metadata": {},
   "outputs": [],
   "source": [
    "# pada data region sebenarnya masih berantakan misal ada USA, sehinga perlu dirapikan agar lebih sesuai\n",
    "\n",
    "from geopy.geocoders import Nominatim\n",
    "\n",
    "geocolator = Nominatim(user_agent=\"geoapi\", timeout=10)\n",
    "# fungsi untuk mengambil ibu kota\n",
    "def ger_capital(region):\n",
    "    location = geolocator.geocode(region)\n",
    "    if location: \n",
    "        return location.address.split(',')[0]\n",
    "    return region # jika nilai asli tidak ditemukan maka kembalikan ke awal\n",
    "\n",
    "df['region'] = df['region'].apply(get_capital)"
   ]
  },
  {
   "cell_type": "code",
   "execution_count": 5,
   "metadata": {},
   "outputs": [],
   "source": [
    "# meubah beberapa nama region \n",
    "df['region'] = df['region'].replace({'香港 Hong Kong':'Hong Kong', 'City of New York':'New York', \n",
    "                                    'New Jersey':'Trenton', '中国':'Beijing', 'United States':'Washington'})"
   ]
  },
  {
   "cell_type": "code",
   "execution_count": 6,
   "metadata": {},
   "outputs": [],
   "source": [
    "df.rename(columns={'region':'location'}, inplace=True)"
   ]
  },
  {
   "cell_type": "code",
   "execution_count": 9,
   "metadata": {},
   "outputs": [
    {
     "name": "stdout",
     "output_type": "stream",
     "text": [
      "type\n",
      "Eau De Perfume     1085\n",
      "Eau De Toilette     660\n",
      "Eau De Cologne      111\n",
      "Body Mist            91\n",
      "Other                53\n",
      "Name: count, dtype: int64\n"
     ]
    }
   ],
   "source": [
    "# mengecek semua data yg ada di dalam type\n",
    "pd.options.display.max_rows = None\n",
    "print(df['type'].value_counts())"
   ]
  },
  {
   "cell_type": "code",
   "execution_count": 7,
   "metadata": {},
   "outputs": [],
   "source": [
    "# karena kategori parfumnya begitu banyak, maka saya ingin mengelompokkannya menjadi satu\n",
    "\n",
    "def kategori_perfume(x):\n",
    "    x = x.lower().strip()\n",
    "    if any(keyword in x for keyword in['eau de parfum', 'extrait de parfum', 'perfume', 'PARFUM', 'parfum', 'esprit de parfum', 'le parfum', 'parfum intense', 'esprit de parfum', 'elixir de parfum']):\n",
    "        return 'Eau De Perfume'\n",
    "    elif any(keyword in x for keyword in ['eau de toilette', 'toilette', 'EDT', 'edt']):\n",
    "        return 'Eau De Toilette'\n",
    "    elif any(keyword in x for keyword in ['eau de cologne', 'cologne']):\n",
    "        return 'Eau De Cologne'\n",
    "    elif any(keyword in x for keyword in ['body spray', 'spray', 'fragrance', 'fragrance mist', 'fragrances', 'Perfume Oil','body oil', 'oil', 'gift sets' ]):\n",
    "        return 'Body Mist'\n",
    "    else:\n",
    "        return 'Other' # jika tidak sesuai dari kategori di atas\n",
    "\n",
    "df['type'] = df['type'].apply(kategori_perfume)"
   ]
  },
  {
   "cell_type": "code",
   "execution_count": 25,
   "metadata": {},
   "outputs": [],
   "source": [
    "dfs['last update'] = pd.to_datetime(dfs['last update'], errors='coerce')"
   ]
  },
  {
   "cell_type": "code",
   "execution_count": 28,
   "metadata": {},
   "outputs": [],
   "source": [
    "dfs.to_csv(\"ebay_perfume.csv\", index=False)"
   ]
  },
  {
   "cell_type": "code",
   "execution_count": 29,
   "metadata": {},
   "outputs": [],
   "source": [
    "dfs = pd.read_csv(\"ebay_perfume.csv\")"
   ]
  },
  {
   "cell_type": "code",
   "execution_count": 30,
   "metadata": {},
   "outputs": [
    {
     "name": "stdout",
     "output_type": "stream",
     "text": [
      "<class 'pandas.core.frame.DataFrame'>\n",
      "RangeIndex: 2000 entries, 0 to 1999\n",
      "Data columns (total 8 columns):\n",
      " #   Column       Non-Null Count  Dtype  \n",
      "---  ------       --------------  -----  \n",
      " 0   title        2000 non-null   object \n",
      " 1   type         2000 non-null   object \n",
      " 2   price        2000 non-null   float64\n",
      " 3   available    2000 non-null   int64  \n",
      " 4   sold         2000 non-null   int64  \n",
      " 5   last update  2000 non-null   object \n",
      " 6   gender       2000 non-null   object \n",
      " 7   location     2000 non-null   object \n",
      "dtypes: float64(1), int64(2), object(5)\n",
      "memory usage: 125.1+ KB\n"
     ]
    }
   ],
   "source": [
    "df.info()"
   ]
  },
  {
   "cell_type": "markdown",
   "metadata": {},
   "source": [
    "# vi. Analsis dan Perhitungan"
   ]
  },
  {
   "cell_type": "markdown",
   "metadata": {},
   "source": [
    "### Ukuran Terpusat "
   ]
  },
  {
   "cell_type": "markdown",
   "metadata": {},
   "source": [
    "#### i. Price"
   ]
  },
  {
   "cell_type": "code",
   "execution_count": 148,
   "metadata": {},
   "outputs": [
    {
     "name": "stdout",
     "output_type": "stream",
     "text": [
      "Rata-rata price: 43.18709\n",
      "Median price: 34.04\n",
      "Mode price: 49.99\n"
     ]
    }
   ],
   "source": [
    "print('Rata-rata price:',df['price'].mean())\n",
    "print('Median price:',df['price'].median())\n",
    "print('Mode price:',df['price'].mode().values[0])"
   ]
  },
  {
   "cell_type": "code",
   "execution_count": 154,
   "metadata": {},
   "outputs": [
    {
     "name": "stdout",
     "output_type": "stream",
     "text": [
      "Standard Deviation dari Price 32.619625350560135\n"
     ]
    }
   ],
   "source": [
    "std = df['price']. std()\n",
    "print('Standard Deviation dari Price',std)"
   ]
  },
  {
   "cell_type": "code",
   "execution_count": 156,
   "metadata": {},
   "outputs": [
    {
     "name": "stdout",
     "output_type": "stream",
     "text": [
      "Skewness: 2.503409083998559\n"
     ]
    }
   ],
   "source": [
    "print(f\"Skewness: {df['price'].skew()}\")"
   ]
  },
  {
   "cell_type": "code",
   "execution_count": 157,
   "metadata": {},
   "outputs": [
    {
     "name": "stdout",
     "output_type": "stream",
     "text": [
      "kurtosis: 10.36786203666211\n"
     ]
    }
   ],
   "source": [
    "print(f\"kurtosis: {df['price'].kurtosis()}\")"
   ]
  },
  {
   "cell_type": "code",
   "execution_count": 158,
   "metadata": {},
   "outputs": [
    {
     "data": {
      "text/plain": [
       "<Axes: >"
      ]
     },
     "execution_count": 158,
     "metadata": {},
     "output_type": "execute_result"
    },
    {
     "data": {
      "image/png": "[encoded data removed]",
      "text/plain": [
       "<Figure size 1000x400 with 2 Axes>"
      ]
     },
     "metadata": {},
     "output_type": "display_data"
    }
   ],
   "source": [
    "fig, ax = plt.subplots(ncols=2, figsize=(10,4))\n",
    "\n",
    "df['price'].plot(kind='hist',bins=20,ax=ax[0])\n",
    "df['price'].plot(kind='box',ax=ax[1])"
   ]
  },
  {
   "cell_type": "markdown",
   "metadata": {},
   "source": [
    "Dari hasil analisis terhadap harga produk ditemukan bahwa rata-rata berkisar USD 43.18, mediannya USD 34.04 dan brand cenderung menjual dengan harga USD 49.99\n",
    "Standar deviasi sebesar 32.62 menunjukkan bahwa variasi harga cukup vesar. Dengan skewness positif menandakan bahwa cukup banyak produk dijual dengan harga lebih rendah dari rata-rata, tetapi ada beberapa produk berharga tinggi yang mendorong rata-rata naik. Dan kurtosis tinggi, menunjukkan bahwa distribusi harga memiliki puncak yang lebih tajam menandakan adanya beberapa harga ekstrem seperti USD 100.00"
   ]
  },
  {
   "cell_type": "markdown",
   "metadata": {},
   "source": [
    "#### ii. Produk Terjual"
   ]
  },
  {
   "cell_type": "code",
   "execution_count": 161,
   "metadata": {},
   "outputs": [
    {
     "name": "stdout",
     "output_type": "stream",
     "text": [
      "Mean of sold items 625.5165\n",
      "Median of sold items 49.0\n",
      "Mode of sold items 4\n"
     ]
    }
   ],
   "source": [
    "print('Mean of sold items',df['sold'].mean())\n",
    "print('Median of sold items',df['sold'].median())\n",
    "print('Mode of sold items',df['sold'].mode().values[0])"
   ]
  },
  {
   "cell_type": "code",
   "execution_count": 162,
   "metadata": {},
   "outputs": [
    {
     "name": "stdout",
     "output_type": "stream",
     "text": [
      "Standard Deviation of Items Sold: 2457.312206938495\n"
     ]
    }
   ],
   "source": [
    "std = df['sold'].std()\n",
    "print('Standard Deviation of Items Sold:',std)"
   ]
  },
  {
   "cell_type": "code",
   "execution_count": 163,
   "metadata": {},
   "outputs": [
    {
     "name": "stdout",
     "output_type": "stream",
     "text": [
      "Skewness: 11.365209734625655\n"
     ]
    }
   ],
   "source": [
    "print(f\"Skewness: {df['sold'].skew()}\")\n"
   ]
  },
  {
   "cell_type": "code",
   "execution_count": 164,
   "metadata": {},
   "outputs": [
    {
     "name": "stdout",
     "output_type": "stream",
     "text": [
      "Kurtosis: 181.44629257928912\n"
     ]
    }
   ],
   "source": [
    "print(f\"Kurtosis: {df['sold'].kurtosis()}\")"
   ]
  },
  {
   "cell_type": "code",
   "execution_count": 172,
   "metadata": {},
   "outputs": [
    {
     "data": {
      "text/plain": [
       "<Axes: >"
      ]
     },
     "execution_count": 172,
     "metadata": {},
     "output_type": "execute_result"
    },
    {
     "data": {
      "image/png": "[encoded data removed]",
      "text/plain": [
       "<Figure size 1000x400 with 2 Axes>"
      ]
     },
     "metadata": {},
     "output_type": "display_data"
    }
   ],
   "source": [
    "fig, ax = plt.subplots(ncols=2, figsize=(10,4))\n",
    "\n",
    "df['sold'].plot(kind='hist',bins=20,ax=ax[0])\n",
    "df['sold'].plot(kind='box',ax=ax[1])"
   ]
  },
  {
   "cell_type": "markdown",
   "metadata": {},
   "source": [
    "Rata-rata jumlah barang yang terjual adalah 625.52, tetapi nilai median jauh lebih rendah di 49, dan mode hanya 4 yang menunjukkan bahwa sebagian besar produk terjual dalam jumlah kecil. Standar deviasi yang sangat tinggi menandakan variasi penjualan yang besar. Skewness positif yang ekstrem menunjukkan bahwa sebagian besar produk memiliki penjualan produk rendah, tetapi ada produk dengan angka penjualan sangat tinggi yang menarik rata-rata ke atas. Kurtosis yang sangat tinggi mengindikasikan distribusi yang sangat runcing dengan banyak nilai ekstrem, di mana hanya sedikit produk yang terjual dalam jumlah sangat besar."
   ]
  },
  {
   "cell_type": "markdown",
   "metadata": {},
   "source": [
    "#### iii. Produk Tersedia"
   ]
  },
  {
   "cell_type": "code",
   "execution_count": null,
   "metadata": {},
   "outputs": [
    {
     "name": "stdout",
     "output_type": "stream",
     "text": [
      "Mean of available items 18.2205\n",
      "Median of available items 9.0\n",
      "Mode of available items 10\n"
     ]
    }
   ],
   "source": [
    "print('Mean of Available items',df['available'].mean())\n",
    "print('Median of Available items',df['available'].median())\n",
    "print('Mode of Available items',df['available'].mode().values[0])"
   ]
  },
  {
   "cell_type": "code",
   "execution_count": 174,
   "metadata": {},
   "outputs": [
    {
     "name": "stdout",
     "output_type": "stream",
     "text": [
      "Standard Deviation of Items Available: 53.66129561493588\n"
     ]
    }
   ],
   "source": [
    "std = df['available'].std()\n",
    "print('Standard Deviation of Items Available:',std)"
   ]
  },
  {
   "cell_type": "code",
   "execution_count": 175,
   "metadata": {},
   "outputs": [
    {
     "name": "stdout",
     "output_type": "stream",
     "text": [
      "Skewness: 7.723582423285827\n"
     ]
    }
   ],
   "source": [
    "print(f\"Skewness: {df['available'].skew()}\")"
   ]
  },
  {
   "cell_type": "code",
   "execution_count": 176,
   "metadata": {},
   "outputs": [
    {
     "name": "stdout",
     "output_type": "stream",
     "text": [
      "Kurtosis: 78.34680975011997\n"
     ]
    }
   ],
   "source": [
    "print(f\"Kurtosis: {df['available'].kurtosis()}\")"
   ]
  },
  {
   "cell_type": "code",
   "execution_count": 177,
   "metadata": {},
   "outputs": [
    {
     "data": {
      "text/plain": [
       "<Axes: >"
      ]
     },
     "execution_count": 177,
     "metadata": {},
     "output_type": "execute_result"
    },
    {
     "data": {
      "image/png": "[encoded data removed]",
      "text/plain": [
       "<Figure size 1000x400 with 2 Axes>"
      ]
     },
     "metadata": {},
     "output_type": "display_data"
    }
   ],
   "source": [
    "fig, ax = plt.subplots(ncols=2, figsize=(10,4))\n",
    "\n",
    "df['available'].plot(kind='hist',bins=20,ax=ax[0])\n",
    "df['available'].plot(kind='box',ax=ax[1])"
   ]
  },
  {
   "cell_type": "markdown",
   "metadata": {},
   "source": [
    "Rata-rata jumlah stok yang tersedia adalh 18.22, tetapi median hanya 9 dan mode 10 yang menunjukkan bahwa sebagian besar produk memiliki stok yang relatif rendah. Standar deviasi yang tinggi menandakan adanya variasi stok yang besar antar produk. Skewness positif yg tinggi menunjukkan bahwa sebagian besar produk memiliki stok rendah, tetapi ada beberapa produk dengan stok sangat besar yang menarik rata-rata ke atas. Kurtosis yang sangat tinggi mengindikasinya distribusi yang sangat runcing, di mana sebagian besar produk memiliki stok kecil, sementara hanya sedikit yang memiliki stok dalam jumlah besar"
   ]
  },
  {
   "cell_type": "markdown",
   "metadata": {},
   "source": [
    "### Statistik Deskriptif"
   ]
  },
  {
   "cell_type": "markdown",
   "metadata": {},
   "source": [
    "korelasi antara harga dengan barang yg terjual, sebelum korelasi uji normalitas dari masing-masing variabel, bisa divisualisasikan dengan scatter plot."
   ]
  },
  {
   "cell_type": "code",
   "execution_count": 185,
   "metadata": {},
   "outputs": [
    {
     "data": {
      "text/html": [
       "<div>\n",
       "<style scoped>\n",
       "    .dataframe tbody tr th:only-of-type {\n",
       "        vertical-align: middle;\n",
       "    }\n",
       "\n",
       "    .dataframe tbody tr th {\n",
       "        vertical-align: top;\n",
       "    }\n",
       "\n",
       "    .dataframe thead th {\n",
       "        text-align: right;\n",
       "    }\n",
       "</style>\n",
       "<table border=\"1\" class=\"dataframe\">\n",
       "  <thead>\n",
       "    <tr style=\"text-align: right;\">\n",
       "      <th></th>\n",
       "      <th>id</th>\n",
       "      <th>title</th>\n",
       "      <th>type</th>\n",
       "      <th>price</th>\n",
       "      <th>available</th>\n",
       "      <th>sold</th>\n",
       "      <th>last update</th>\n",
       "      <th>gender</th>\n",
       "      <th>region</th>\n",
       "    </tr>\n",
       "  </thead>\n",
       "  <tbody>\n",
       "    <tr>\n",
       "      <th>0</th>\n",
       "      <td>1</td>\n",
       "      <td>Good Girl by Carolina Herrera 2.7 oz Eau De Pa...</td>\n",
       "      <td>Eau de Parfum</td>\n",
       "      <td>43.99</td>\n",
       "      <td>2</td>\n",
       "      <td>393</td>\n",
       "      <td>2024-05-23 10:43:00</td>\n",
       "      <td>Women</td>\n",
       "      <td>Alabama</td>\n",
       "    </tr>\n",
       "    <tr>\n",
       "      <th>1</th>\n",
       "      <td>2</td>\n",
       "      <td>Parfums de Marly Delina La Rosee Eau de Parfum...</td>\n",
       "      <td>Eau de Parfum</td>\n",
       "      <td>79.99</td>\n",
       "      <td>5</td>\n",
       "      <td>40</td>\n",
       "      <td>2024-05-24 00:15:00</td>\n",
       "      <td>Women</td>\n",
       "      <td>香港 Hong Kong</td>\n",
       "    </tr>\n",
       "    <tr>\n",
       "      <th>2</th>\n",
       "      <td>3</td>\n",
       "      <td>PRADA Paradoxe by Prada EDP 3.0oz/90ml Spray P...</td>\n",
       "      <td>Eau de Parfum</td>\n",
       "      <td>59.99</td>\n",
       "      <td>10</td>\n",
       "      <td>35</td>\n",
       "      <td>2024-05-14 20:54:00</td>\n",
       "      <td>Women</td>\n",
       "      <td>New Jersey</td>\n",
       "    </tr>\n",
       "    <tr>\n",
       "      <th>3</th>\n",
       "      <td>4</td>\n",
       "      <td>J'adore Parfum D'eau by Christian 3.4 oz EDP F...</td>\n",
       "      <td>Eau de Parfum</td>\n",
       "      <td>59.99</td>\n",
       "      <td>10</td>\n",
       "      <td>9</td>\n",
       "      <td>2024-05-23 01:23:00</td>\n",
       "      <td>Women</td>\n",
       "      <td>New Jersey</td>\n",
       "    </tr>\n",
       "    <tr>\n",
       "      <th>5</th>\n",
       "      <td>6</td>\n",
       "      <td>Flowerbomb by Viktor &amp; Rolf 3.4 oz 100ML Eau D...</td>\n",
       "      <td>Eau de Parfum</td>\n",
       "      <td>51.99</td>\n",
       "      <td>8</td>\n",
       "      <td>184</td>\n",
       "      <td>2024-05-23 10:44:00</td>\n",
       "      <td>Women</td>\n",
       "      <td>Michigan</td>\n",
       "    </tr>\n",
       "  </tbody>\n",
       "</table>\n",
       "</div>"
      ],
      "text/plain": [
       "   id                                              title           type  \\\n",
       "0   1  Good Girl by Carolina Herrera 2.7 oz Eau De Pa...  Eau de Parfum   \n",
       "1   2  Parfums de Marly Delina La Rosee Eau de Parfum...  Eau de Parfum   \n",
       "2   3  PRADA Paradoxe by Prada EDP 3.0oz/90ml Spray P...  Eau de Parfum   \n",
       "3   4  J'adore Parfum D'eau by Christian 3.4 oz EDP F...  Eau de Parfum   \n",
       "5   6  Flowerbomb by Viktor & Rolf 3.4 oz 100ML Eau D...  Eau de Parfum   \n",
       "\n",
       "   price  available  sold         last update gender        region  \n",
       "0  43.99          2   393 2024-05-23 10:43:00  Women       Alabama  \n",
       "1  79.99          5    40 2024-05-24 00:15:00  Women  香港 Hong Kong  \n",
       "2  59.99         10    35 2024-05-14 20:54:00  Women    New Jersey  \n",
       "3  59.99         10     9 2024-05-23 01:23:00  Women    New Jersey  \n",
       "5  51.99          8   184 2024-05-23 10:44:00  Women      Michigan  "
      ]
     },
     "execution_count": 185,
     "metadata": {},
     "output_type": "execute_result"
    }
   ],
   "source": [
    "# melihat korelasi antara harga dengan barang yang terjual \n",
    "\n",
    "\n",
    "df = df[(df['sold']>0) & (df['price']>0)]\n",
    "df.head()"
   ]
  },
  {
   "cell_type": "code",
   "execution_count": 189,
   "metadata": {},
   "outputs": [
    {
     "data": {
      "text/plain": [
       "0    17288.07\n",
       "1     3199.60\n",
       "2     2099.65\n",
       "3      539.91\n",
       "5     9566.16\n",
       "dtype: float64"
      ]
     },
     "execution_count": 189,
     "metadata": {},
     "output_type": "execute_result"
    }
   ],
   "source": [
    "revenue = df['sold'] * df['price']\n",
    "revenue.head()\n"
   ]
  },
  {
   "cell_type": "code",
   "execution_count": 191,
   "metadata": {},
   "outputs": [
    {
     "name": "stdout",
     "output_type": "stream",
     "text": [
      "Average = 20069.413078867543\n",
      "Minimum = 12.0\n",
      "Maximum = 1420246.15\n"
     ]
    }
   ],
   "source": [
    "\n",
    "print('Average =',revenue.mean())\n",
    "print('Minimum =',revenue.min())\n",
    "print('Maximum =',revenue.max())"
   ]
  },
  {
   "cell_type": "code",
   "execution_count": 195,
   "metadata": {},
   "outputs": [
    {
     "name": "stdout",
     "output_type": "stream",
     "text": [
      "Lower Limit: 16663.906679169446\n",
      "Upper Limit: 23474.91947856564\n"
     ]
    }
   ],
   "source": [
    "std = revenue.std()\n",
    "N = len(revenue)\n",
    "low, up = stats.norm.interval(0.95,loc=revenue.mean(),scale=std/np.sqrt(N))\n",
    "print('Lower Limit:',low)\n",
    "print('Upper Limit:',up)"
   ]
  },
  {
   "cell_type": "code",
   "execution_count": 198,
   "metadata": {},
   "outputs": [
    {
     "data": {
      "text/plain": [
       "<function matplotlib.pyplot.show(close=None, block=None)>"
      ]
     },
     "execution_count": 198,
     "metadata": {},
     "output_type": "execute_result"
    },
    {
     "data": {
      "image/png": "[encoded data removed]",
      "text/plain": [
       "<Figure size 640x480 with 1 Axes>"
      ]
     },
     "metadata": {},
     "output_type": "display_data"
    }
   ],
   "source": [
    "sns.scatterplot(data=df, x='price', y='sold', alpha=0.5)\n",
    "plt.title('Scatter Plot of Price with Sold items')\n",
    "plt.show"
   ]
  },
  {
   "cell_type": "markdown",
   "metadata": {},
   "source": [
    "### Statistik Inferential"
   ]
  },
  {
   "cell_type": "markdown",
   "metadata": {},
   "source": [
    " untuk inferensial mengenai tipe parfum (ANOVA), visualisasi bisa pakai bar chart ambil filter perbanigan dara-rata harga antar tipe parfum."
   ]
  },
  {
   "cell_type": "code",
   "execution_count": 32,
   "metadata": {},
   "outputs": [
    {
     "name": "stdout",
     "output_type": "stream",
     "text": [
      "type\n",
      "Eau De Perfume     1085\n",
      "Eau De Toilette     660\n",
      "Eau De Cologne      111\n",
      "Body Mist            91\n",
      "Other                53\n",
      "Name: count, dtype: int64\n"
     ]
    }
   ],
   "source": [
    "pd.options.display.max_rows = None\n",
    "print(dfs['type'].value_counts())"
   ]
  },
  {
   "cell_type": "code",
   "execution_count": 33,
   "metadata": {},
   "outputs": [],
   "source": [
    "EDP = dfs['price'][dfs['type']=='Eau De Perfume']\n",
    "EDT = dfs['price'][dfs['type']=='Eau De Toilette']\n",
    "EDC = dfs['price'][dfs['type']=='Eau De Cologne']\n",
    "BM = dfs['price'][dfs['type']=='Body Mist']\n",
    "OTH = dfs['price'][dfs['type']=='Other']\n"
   ]
  },
  {
   "cell_type": "code",
   "execution_count": 34,
   "metadata": {},
   "outputs": [
    {
     "name": "stdout",
     "output_type": "stream",
     "text": [
      "Average Price of EDP: 47.48\n",
      "Average Price of EDT: 38.17\n",
      "Average Price of EDC: 40.63\n",
      "Average Price of BM: 37.10\n",
      "Average Price of OTH: 33.53\n"
     ]
    }
   ],
   "source": [
    "print(f'Average Price of EDP: {EDP.mean():.2f}')\n",
    "print(f'Average Price of EDT: {EDT.mean():.2f}')\n",
    "print(f'Average Price of EDC: {EDC.mean():.2f}')\n",
    "print(f'Average Price of BM: {BM.mean():.2f}')\n",
    "print(f'Average Price of OTH: {OTH.mean():.2f}')"
   ]
  },
  {
   "cell_type": "markdown",
   "metadata": {},
   "source": [
    "H0: tidak terdapat perbedaan signifikan antara harga dengan tipe parfum\n",
    "H1: ada perbedaan signifikan antara harga dengan tipe parfum"
   ]
  },
  {
   "cell_type": "code",
   "execution_count": 35,
   "metadata": {},
   "outputs": [
    {
     "name": "stdout",
     "output_type": "stream",
     "text": [
      "P-value: 8.722888369736812e-09\n"
     ]
    }
   ],
   "source": [
    "res = stats.f_oneway(EDP, EDT, EDC, BM, OTH)\n",
    "print('P-value:',res.pvalue)"
   ]
  },
  {
   "cell_type": "markdown",
   "metadata": {},
   "source": [
    "p-value lebih dari 0.05, sehingga H0 ditolak yang menunjukkan ada perbedan signifikan antara harga dengan tipe parfum"
   ]
  },
  {
   "cell_type": "code",
   "execution_count": null,
   "metadata": {},
   "outputs": [],
   "source": [
    "# membuat df_avg untuk didefinisikan sebelum digunakan pada barchart\n",
    "df_avg = pd.DataFrame({\n",
    "    'type': ['Eau De Perfume', 'Eau De Toilette', 'Eau De Cologne', 'Body Mist', 'Other'],\n",
    "    'average price': [EDP.mean(), EDT.mean(), EDC.mean(), BM.mean(), OTH.mean()]\n",
    "})\n"
   ]
  },
  {
   "cell_type": "code",
   "execution_count": 38,
   "metadata": {},
   "outputs": [
    {
     "name": "stderr",
     "output_type": "stream",
     "text": [
      "C:\\Users\\ASUS\\AppData\\Local\\Temp\\ipykernel_12124\\2854758088.py:2: FutureWarning: \n",
      "\n",
      "Passing `palette` without assigning `hue` is deprecated and will be removed in v0.14.0. Assign the `x` variable to `hue` and set `legend=False` for the same effect.\n",
      "\n",
      "  sns.barplot(x='type', y='average price', data=df_avg, palette='viridis')\n"
     ]
    },
    {
     "data": {
      "image/png": "[encoded data removed]",
      "text/plain": [
       "<Figure size 800x500 with 1 Axes>"
      ]
     },
     "metadata": {},
     "output_type": "display_data"
    }
   ],
   "source": [
    "plt.figure(figsize=(8,5))\n",
    "sns.barplot(x='type', y='average price', data=df_avg, palette='viridis')\n",
    "\n",
    "plt.title('Average Price per Perfume Type')\n",
    "plt.xlabel('Perfume Type')\n",
    "plt.ylabel('Average Price')\n",
    "plt.xticks(rotation=30)\n",
    "\n",
    "plt.show()"
   ]
  },
  {
   "cell_type": "markdown",
   "metadata": {},
   "source": [
    "# vi. Pengambilan Kesimpulan"
   ]
  },
  {
   "cell_type": "markdown",
   "metadata": {},
   "source": [
    "Dari hasil analisis yang telah dijalankan dapat disimpulkan,\n",
    "kita perlu mengeluarkan produk premium dpada jenis Eau De Perfume karena memiliki daya minat yang tinggi serta memiliki harga tertinggi. Sedangkan Eau De Cologne, Eau De toilette serta Body Mist dapat dijadikan produk sampingan agar pelanggan tetap memiliki lebih banyak pilihan. Lalu ekspansi ke pasar global harus mempertimbangkan perbedaan harga antar kategori parfum, serta tren wisatawan asing yang tertarik dengan parfum lokal."
   ]
  }
 ],
 "metadata": {
  "kernelspec": {
   "display_name": "base",
   "language": "python",
   "name": "python3"
  },
  "language_info": {
   "codemirror_mode": {
    "name": "ipython",
    "version": 3
   },
   "file_extension": ".py",
   "mimetype": "text/x-python",
   "name": "python",
   "nbconvert_exporter": "python",
   "pygments_lexer": "ipython3",
   "version": "3.12.3"
  }
 },
 "nbformat": 4,
 "nbformat_minor": 2
}
